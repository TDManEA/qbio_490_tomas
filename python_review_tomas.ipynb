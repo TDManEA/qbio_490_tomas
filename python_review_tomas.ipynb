{
 "cells": [
  {
   "cell_type": "markdown",
   "id": "ab6dcddc",
   "metadata": {},
   "source": [
    "Part 2 - Applying ML to Cancer Data Analysis\n",
    "\n",
    "For this project, you will create a machine learning model to predict the stage of cancer (I, II, III, or IV) from both RNA and protein-level gene expression for clear cell renal cell carcinoma (CCRCC) in CPTAC. Stage of cancer can be found using the tumor_stage_pathological column within the CPTAC clinical data. You can access the data the exact same way as BRCA, substituting the accession code.\n",
    "\n",
    "1) Select what features to include in the model by finding the top 5 most differentially expressed proteins between Stage I and Stage III patients in CPTAC protein data. Repeat this process to find the top 5 most differential expression RNA between Stage I and Stage III patients in the CPTAC RNA data.\n",
    "a) Use tumor_stage_pathological in the CPTAC clinical data.\n",
    "\n",
    "2) Create a new dataframe of your selected features, where the rows are the patients and the columns are the expression values of genes you selected in step 1 (X data).\n",
    "\n",
    "3) Create a separate list of the patients’ cancer stages, ie. tumor_stage_pathological (y data).\n",
    "\n",
    "4) Scale and encode your features and target.\n",
    "a) You need to do this! See the Hints for additional help.\n",
    "\n",
    "5) Create a train test split of your X and y data with train_size=0.7.\n",
    "\n",
    "6) Write code to test the accuracy of all 4 classification models we covered in this class (ie. KNeighborsClassifier, DecisionTreeClassifier, and MLPClassifier, GaussianNB). Since the accuracy of the models will change depending on the train-test split, you will need to run each model 10 times and find the average accuracy between all runs.\n",
    "\n",
    "7) Compare the 4 mean accuracies and identify which model is best.\n",
    "\n",
    "Hints:\n",
    "● To find the most differentially expressed RNA and proteins, we will employ the same method as that in the Intro_to_CPTAC assignment. Find the column means for each gene and take the difference between the two groups.\n",
    "● Protein data is already log scaled but RNA data is not. You will need to log scale the RNA data before comparing the differential expression. You can use np.log2() for this.\n",
    "● For step 6: An example in Intro to ML includes the code to compare model performance, but only for regression models. However, the code can be used to compare classification models with a few alterations..."
   ]
  },
  {
   "cell_type": "markdown",
   "id": "6e6760a4",
   "metadata": {},
   "source": [
    "1) Select what features to include in the model by finding the top 5 most differentially expressed proteins between Stage I and Stage III patients in CPTAC protein data. Repeat this process to find the top 5 most differential expression RNA between Stage I and Stage III patients in the CPTAC RNA data.\n",
    "a) Use tumor_stage_pathological in the CPTAC clinical data."
   ]
  },
  {
   "cell_type": "code",
   "execution_count": 1,
   "id": "a20048be",
   "metadata": {},
   "outputs": [
    {
     "name": "stderr",
     "output_type": "stream",
     "text": [
      "cptac warning: Your version of cptac (0.9.1) is out-of-date. Latest is 1.5.7. Please run 'pip install --upgrade cptac' to update it. (/var/folders/hp/p8lrjqpd7v35j_mgh8f2h_gc0000gn/T/ipykernel_2950/4119796738.py, line 13)\n"
     ]
    },
    {
     "name": "stdout",
     "output_type": "stream",
     "text": [
      "Top 5 RNA Genes:                          \n",
      "Index(['A1BG', 'A1CF', 'A2M', 'A2ML1', 'A4GALT'], dtype='object', name='Name')\n",
      "\n",
      "Top 5 Protein Genes:\n",
      "MultiIndex([('A1BG', 'NP_570602.2'),\n",
      "            ('A1CF', 'NP_620310.1'),\n",
      "            ( 'A2M', 'NP_000005.2'),\n",
      "            ('AAAS', 'NP_056480.1'),\n",
      "            ('AACS', 'NP_076417.2')],\n",
      "           names=['Name', 'Database_ID'])\n"
     ]
    }
   ],
   "source": [
    "# Importing packages\n",
    "import os\n",
    "import matplotlib.pyplot as plt\n",
    "import pandas as pd\n",
    "import numpy as np\n",
    "import seaborn as sns\n",
    "from sklearn.preprocessing import OrdinalEncoder\n",
    "\n",
    "# Setting up working directory\n",
    "os.chdir('/Users/tomasmanea/desktop/QBIO490/qbio_490_tomas/analysis_data')\n",
    "\n",
    "# 1. Import cptac\n",
    "import cptac\n",
    "\n",
    "# 2. Download the latest version of the cptac package\n",
    "#cptac.download_latest_version()\n",
    "\n",
    "# 3. Load the renal cancer data set\n",
    "ccrcc = cptac.Ccrcc()\n",
    "\n",
    "# Retrieving clinical, rna, protein data\n",
    "clinical_data = ccrcc.get_clinical()\n",
    "rna_data = ccrcc.get_transcriptomics()\n",
    "protein_data = ccrcc.get_proteomics()\n",
    "\n",
    "# Mask Creation\n",
    "na_mask = clinical_data.loc[:, 'tumor_stage_pathological'].isna()\n",
    "clinical_mask = clinical_data.loc[na_mask, :]\n",
    "rna_mask = rna_data.loc[na_mask, :]\n",
    "protein_mask = protein_data.loc[na_mask, :]\n",
    "\n",
    "# Change 0s to NAs prior to removing **first rna, then protein\n",
    "rna_masked = rna_mask.replace(0, np.nan)\n",
    "gene_cleaned_masked = rna_masked.isna().sum() == 0\n",
    "rna_masked = rna_masked.loc[:, gene_cleaned_masked]\n",
    "\n",
    "protein_cleaned_masked = protein_mask.isna().sum() == 0\n",
    "protein_masked = protein_mask.loc[:, protein_cleaned_masked]\n",
    "\n",
    "# 4. Mask for Stage 1 and Stage 3\n",
    "stage1_mask = clinical_mask.loc[:, 'tumor_stage_pathological'] == 'Stage I'\n",
    "stage3_mask = clinical_mask.loc[:, 'tumor_stage_pathological'] == 'Stage III'\n",
    "\n",
    "# Rna data requires logscale\n",
    "rna_masked = np.log(rna_masked)\n",
    "\n",
    "# 5. Find top 5 differential genes\n",
    "# For RNA\n",
    "stage1_rna = rna_masked.loc[stage1_mask, :]\n",
    "stage3_rna = rna_masked.loc[stage3_mask, :]\n",
    "\n",
    "# Calculate the mean difference between Stage I and Stage III for each gene\n",
    "rna_mean_diff = np.abs(stage1_rna.mean() - stage3_rna.mean())\n",
    "\n",
    "# Sort genes based on mean difference and select the top 5\n",
    "stage1_t5_rna = rna_mean_diff.sort_values(ascending=False)[:5].index\n",
    "\n",
    "# For Protein\n",
    "stage1_proteins = protein_masked.loc[stage1_mask, :]\n",
    "stage3_proteins = protein_masked.loc[stage3_mask, :]\n",
    "\n",
    "# Calculate the mean difference between Stage I and Stage III for each protein\n",
    "protein_mean_diff = np.abs(stage1_proteins.mean() - stage3_proteins.mean())\n",
    "\n",
    "# Sort proteins based on mean difference and select the top 5\n",
    "stage1_t5_proteins = protein_mean_diff.sort_values(ascending=False)[:5].index\n",
    "\n",
    "# Display the selected genes and proteins\n",
    "print(\"Top 5 RNA Genes:\")\n",
    "print(stage1_t5_rna)\n",
    "\n",
    "print(\"\\nTop 5 Protein Genes:\")\n",
    "print(stage1_t5_proteins)\n"
   ]
  },
  {
   "cell_type": "markdown",
   "id": "d759c7df",
   "metadata": {},
   "source": [
    "2) Create a new dataframe of your selected features, where the rows are the patients and the columns are the expression values of genes you selected in step 1 (X data)."
   ]
  },
  {
   "cell_type": "code",
   "execution_count": 3,
   "id": "95320e00",
   "metadata": {
    "scrolled": true
   },
   "outputs": [
    {
     "ename": "KeyError",
     "evalue": "\"['A2ML1'] not in index\"",
     "output_type": "error",
     "traceback": [
      "\u001b[0;31m---------------------------------------------------------------------------\u001b[0m",
      "\u001b[0;31mKeyError\u001b[0m                                  Traceback (most recent call last)",
      "Cell \u001b[0;32mIn[3], line 10\u001b[0m\n\u001b[1;32m      8\u001b[0m \u001b[38;5;66;03m# Create new dataframes for RNA and protein data with the selected features\u001b[39;00m\n\u001b[1;32m      9\u001b[0m rna_selected_df \u001b[38;5;241m=\u001b[39m rna_masked[selected_genes]\n\u001b[0;32m---> 10\u001b[0m protein_selected_df \u001b[38;5;241m=\u001b[39m \u001b[43mprotein_masked\u001b[49m\u001b[43m[\u001b[49m\u001b[43mselected_genes\u001b[49m\u001b[43m]\u001b[49m\n\u001b[1;32m     12\u001b[0m \u001b[38;5;66;03m# Display the new dataframes\u001b[39;00m\n\u001b[1;32m     13\u001b[0m \u001b[38;5;28mprint\u001b[39m(\u001b[38;5;124m\"\u001b[39m\u001b[38;5;124mRNA Selected Features:\u001b[39m\u001b[38;5;124m\"\u001b[39m)\n",
      "File \u001b[0;32m~/anaconda3/envs/qbio_490_tomas/lib/python3.9/site-packages/pandas/core/frame.py:3899\u001b[0m, in \u001b[0;36mDataFrame.__getitem__\u001b[0;34m(self, key)\u001b[0m\n\u001b[1;32m   3897\u001b[0m     \u001b[38;5;28;01mif\u001b[39;00m is_iterator(key):\n\u001b[1;32m   3898\u001b[0m         key \u001b[38;5;241m=\u001b[39m \u001b[38;5;28mlist\u001b[39m(key)\n\u001b[0;32m-> 3899\u001b[0m     indexer \u001b[38;5;241m=\u001b[39m \u001b[38;5;28;43mself\u001b[39;49m\u001b[38;5;241;43m.\u001b[39;49m\u001b[43mcolumns\u001b[49m\u001b[38;5;241;43m.\u001b[39;49m\u001b[43m_get_indexer_strict\u001b[49m\u001b[43m(\u001b[49m\u001b[43mkey\u001b[49m\u001b[43m,\u001b[49m\u001b[43m \u001b[49m\u001b[38;5;124;43m\"\u001b[39;49m\u001b[38;5;124;43mcolumns\u001b[39;49m\u001b[38;5;124;43m\"\u001b[39;49m\u001b[43m)\u001b[49m[\u001b[38;5;241m1\u001b[39m]\n\u001b[1;32m   3901\u001b[0m \u001b[38;5;66;03m# take() does not accept boolean indexers\u001b[39;00m\n\u001b[1;32m   3902\u001b[0m \u001b[38;5;28;01mif\u001b[39;00m \u001b[38;5;28mgetattr\u001b[39m(indexer, \u001b[38;5;124m\"\u001b[39m\u001b[38;5;124mdtype\u001b[39m\u001b[38;5;124m\"\u001b[39m, \u001b[38;5;28;01mNone\u001b[39;00m) \u001b[38;5;241m==\u001b[39m \u001b[38;5;28mbool\u001b[39m:\n",
      "File \u001b[0;32m~/anaconda3/envs/qbio_490_tomas/lib/python3.9/site-packages/pandas/core/indexes/multi.py:2648\u001b[0m, in \u001b[0;36mMultiIndex._get_indexer_strict\u001b[0;34m(self, key, axis_name)\u001b[0m\n\u001b[1;32m   2645\u001b[0m \u001b[38;5;28;01mif\u001b[39;00m \u001b[38;5;28mlen\u001b[39m(keyarr) \u001b[38;5;129;01mand\u001b[39;00m \u001b[38;5;129;01mnot\u001b[39;00m \u001b[38;5;28misinstance\u001b[39m(keyarr[\u001b[38;5;241m0\u001b[39m], \u001b[38;5;28mtuple\u001b[39m):\n\u001b[1;32m   2646\u001b[0m     indexer \u001b[38;5;241m=\u001b[39m \u001b[38;5;28mself\u001b[39m\u001b[38;5;241m.\u001b[39m_get_indexer_level_0(keyarr)\n\u001b[0;32m-> 2648\u001b[0m     \u001b[38;5;28;43mself\u001b[39;49m\u001b[38;5;241;43m.\u001b[39;49m\u001b[43m_raise_if_missing\u001b[49m\u001b[43m(\u001b[49m\u001b[43mkey\u001b[49m\u001b[43m,\u001b[49m\u001b[43m \u001b[49m\u001b[43mindexer\u001b[49m\u001b[43m,\u001b[49m\u001b[43m \u001b[49m\u001b[43maxis_name\u001b[49m\u001b[43m)\u001b[49m\n\u001b[1;32m   2649\u001b[0m     \u001b[38;5;28;01mreturn\u001b[39;00m \u001b[38;5;28mself\u001b[39m[indexer], indexer\n\u001b[1;32m   2651\u001b[0m \u001b[38;5;28;01mreturn\u001b[39;00m \u001b[38;5;28msuper\u001b[39m()\u001b[38;5;241m.\u001b[39m_get_indexer_strict(key, axis_name)\n",
      "File \u001b[0;32m~/anaconda3/envs/qbio_490_tomas/lib/python3.9/site-packages/pandas/core/indexes/multi.py:2666\u001b[0m, in \u001b[0;36mMultiIndex._raise_if_missing\u001b[0;34m(self, key, indexer, axis_name)\u001b[0m\n\u001b[1;32m   2664\u001b[0m cmask \u001b[38;5;241m=\u001b[39m check \u001b[38;5;241m==\u001b[39m \u001b[38;5;241m-\u001b[39m\u001b[38;5;241m1\u001b[39m\n\u001b[1;32m   2665\u001b[0m \u001b[38;5;28;01mif\u001b[39;00m cmask\u001b[38;5;241m.\u001b[39many():\n\u001b[0;32m-> 2666\u001b[0m     \u001b[38;5;28;01mraise\u001b[39;00m \u001b[38;5;167;01mKeyError\u001b[39;00m(\u001b[38;5;124mf\u001b[39m\u001b[38;5;124m\"\u001b[39m\u001b[38;5;132;01m{\u001b[39;00mkeyarr[cmask]\u001b[38;5;132;01m}\u001b[39;00m\u001b[38;5;124m not in index\u001b[39m\u001b[38;5;124m\"\u001b[39m)\n\u001b[1;32m   2667\u001b[0m \u001b[38;5;66;03m# We get here when levels still contain values which are not\u001b[39;00m\n\u001b[1;32m   2668\u001b[0m \u001b[38;5;66;03m# actually in Index anymore\u001b[39;00m\n\u001b[1;32m   2669\u001b[0m \u001b[38;5;28;01mraise\u001b[39;00m \u001b[38;5;167;01mKeyError\u001b[39;00m(\u001b[38;5;124mf\u001b[39m\u001b[38;5;124m\"\u001b[39m\u001b[38;5;132;01m{\u001b[39;00mkeyarr\u001b[38;5;132;01m}\u001b[39;00m\u001b[38;5;124m not in index\u001b[39m\u001b[38;5;124m\"\u001b[39m)\n",
      "\u001b[0;31mKeyError\u001b[0m: \"['A2ML1'] not in index\""
     ]
    }
   ],
   "source": [
    "# Selected Top 5 Genes\n",
    "rna_selected_genes = ['A1BG', 'A1CF', 'A2M', 'A2ML1', 'A4GALT']\n",
    "protein_selected_genes = ['A1BG', 'A1CF', 'A2M', 'AAAS', 'AACS']\n",
    "\n",
    "# Combine the top 5 differentially expressed genes from RNA and protein data\n",
    "selected_genes = rna_selected_genes + protein_selected_genes\n",
    "\n",
    "# Create new dataframes for RNA and protein data with the selected features\n",
    "rna_selected_df = rna_masked[selected_genes]\n",
    "protein_selected_df = protein_masked[selected_genes]\n",
    "\n",
    "# Display the new dataframes\n",
    "print(\"RNA Selected Features:\")\n",
    "print(rna_selected_df.head())\n",
    "\n",
    "print(\"\\nProtein Selected Features:\")\n",
    "print(protein_selected_df.head())\n",
    "\n",
    "# Combine RNA and protein selected features into X data\n",
    "X_data = pd.concat([rna_selected_df, protein_selected_df], axis=1)\n"
   ]
  },
  {
   "cell_type": "markdown",
   "id": "9756aedc",
   "metadata": {},
   "source": [
    "3) Create a separate list of the patients’ cancer stages, ie. tumor_stage_pathological (y data).\n"
   ]
  },
  {
   "cell_type": "code",
   "execution_count": 4,
   "id": "48e15104",
   "metadata": {},
   "outputs": [
    {
     "ename": "NameError",
     "evalue": "name 'stage3_t5_rna' is not defined",
     "output_type": "error",
     "traceback": [
      "\u001b[0;31m---------------------------------------------------------------------------\u001b[0m",
      "\u001b[0;31mNameError\u001b[0m                                 Traceback (most recent call last)",
      "Cell \u001b[0;32mIn[4], line 6\u001b[0m\n\u001b[1;32m      3\u001b[0m protein_selected_genes \u001b[38;5;241m=\u001b[39m [\u001b[38;5;124m'\u001b[39m\u001b[38;5;124mA1BG\u001b[39m\u001b[38;5;124m'\u001b[39m, \u001b[38;5;124m'\u001b[39m\u001b[38;5;124mA1CF\u001b[39m\u001b[38;5;124m'\u001b[39m, \u001b[38;5;124m'\u001b[39m\u001b[38;5;124mA2M\u001b[39m\u001b[38;5;124m'\u001b[39m, \u001b[38;5;124m'\u001b[39m\u001b[38;5;124mAAAS\u001b[39m\u001b[38;5;124m'\u001b[39m, \u001b[38;5;124m'\u001b[39m\u001b[38;5;124mAACS\u001b[39m\u001b[38;5;124m'\u001b[39m]\n\u001b[1;32m      5\u001b[0m \u001b[38;5;66;03m# Combine the top 5 differentially expressed genes from RNA and protein data\u001b[39;00m\n\u001b[0;32m----> 6\u001b[0m selected_genes \u001b[38;5;241m=\u001b[39m \u001b[38;5;28mlist\u001b[39m(stage1_t5_rna) \u001b[38;5;241m+\u001b[39m \u001b[38;5;28mlist\u001b[39m(\u001b[43mstage3_t5_rna\u001b[49m) \u001b[38;5;241m+\u001b[39m \u001b[38;5;28mlist\u001b[39m(stage1_t5_proteins) \u001b[38;5;241m+\u001b[39m \u001b[38;5;28mlist\u001b[39m(stage3_t5_proteins)\n\u001b[1;32m      8\u001b[0m \u001b[38;5;66;03m# Create new dataframes for RNA and protein data with the selected features\u001b[39;00m\n\u001b[1;32m      9\u001b[0m rna_selected_df \u001b[38;5;241m=\u001b[39m rna_masked[selected_genes]\n",
      "\u001b[0;31mNameError\u001b[0m: name 'stage3_t5_rna' is not defined"
     ]
    }
   ],
   "source": [
    "# Selected Top 5 Genes\n",
    "rna_selected_genes = ['A1BG', 'A1CF', 'A2M', 'A2ML1', 'A4GALT']\n",
    "protein_selected_genes = ['A1BG', 'A1CF', 'A2M', 'AAAS', 'AACS']\n",
    "\n",
    "# Combine the top 5 differentially expressed genes from RNA and protein data\n",
    "selected_genes = list(stage1_t5_rna) + list(stage3_t5_rna) + list(stage1_t5_proteins) + list(stage3_t5_proteins)\n",
    "\n",
    "# Create new dataframes for RNA and protein data with the selected features\n",
    "rna_selected_df = rna_masked[selected_genes]\n",
    "protein_selected_df = protein_masked[selected_genes]\n",
    "\n",
    "# Display the new dataframes\n",
    "print(\"RNA Selected Features:\")\n",
    "print(rna_selected_df.head())\n",
    "\n",
    "print(\"\\nProtein Selected Features:\")\n",
    "print(protein_selected_df.head())\n",
    "\n",
    "# Create a separate list of the patients’ cancer stages (y data)\n",
    "y_data = list(clinical_mask.loc[:, 'tumor_stage_pathological'])\n",
    "\n",
    "# Display the first few elements of the y data\n",
    "print(\"\\nY Data (Tumor Stages):\")\n",
    "print(y_data[:5])\n"
   ]
  },
  {
   "cell_type": "markdown",
   "id": "dc9cda07",
   "metadata": {},
   "source": [
    "4) Scale and encode your features and target.\n",
    "a) You need to do this! See the Hints for additional help.\n"
   ]
  },
  {
   "cell_type": "code",
   "execution_count": 5,
   "id": "7b91110b",
   "metadata": {},
   "outputs": [
    {
     "ename": "NameError",
     "evalue": "name 'X_data' is not defined",
     "output_type": "error",
     "traceback": [
      "\u001b[0;31m---------------------------------------------------------------------------\u001b[0m",
      "\u001b[0;31mNameError\u001b[0m                                 Traceback (most recent call last)",
      "Cell \u001b[0;32mIn[5], line 6\u001b[0m\n\u001b[1;32m      4\u001b[0m \u001b[38;5;66;03m# Scale and encode features\u001b[39;00m\n\u001b[1;32m      5\u001b[0m scaler \u001b[38;5;241m=\u001b[39m StandardScaler()\n\u001b[0;32m----> 6\u001b[0m X_scaled \u001b[38;5;241m=\u001b[39m scaler\u001b[38;5;241m.\u001b[39mfit_transform(\u001b[43mX_data\u001b[49m)\n\u001b[1;32m      8\u001b[0m \u001b[38;5;66;03m# Encode the target variable\u001b[39;00m\n\u001b[1;32m      9\u001b[0m label_encoder \u001b[38;5;241m=\u001b[39m LabelEncoder()\n",
      "\u001b[0;31mNameError\u001b[0m: name 'X_data' is not defined"
     ]
    }
   ],
   "source": [
    "#Packages\n",
    "from sklearn.preprocessing import StandardScaler, LabelEncoder\n",
    "\n",
    "# Scale and encode features\n",
    "scaler = StandardScaler()\n",
    "X_scaled = scaler.fit_transform(X_data)\n",
    "\n",
    "# Encode the target variable\n",
    "label_encoder = LabelEncoder()\n",
    "y_encoded = label_encoder.fit_transform(y_data)"
   ]
  },
  {
   "cell_type": "markdown",
   "id": "aa54c136",
   "metadata": {},
   "source": [
    "5) Create a train test split of your X and y data with train_size=0.7.\n"
   ]
  },
  {
   "cell_type": "code",
   "execution_count": 6,
   "id": "4a45f884",
   "metadata": {},
   "outputs": [
    {
     "ename": "NameError",
     "evalue": "name 'X_scaled' is not defined",
     "output_type": "error",
     "traceback": [
      "\u001b[0;31m---------------------------------------------------------------------------\u001b[0m",
      "\u001b[0;31mNameError\u001b[0m                                 Traceback (most recent call last)",
      "Cell \u001b[0;32mIn[6], line 6\u001b[0m\n\u001b[1;32m      3\u001b[0m \u001b[38;5;28;01mfrom\u001b[39;00m \u001b[38;5;21;01msklearn\u001b[39;00m\u001b[38;5;21;01m.\u001b[39;00m\u001b[38;5;21;01mmodel_selection\u001b[39;00m \u001b[38;5;28;01mimport\u001b[39;00m train_test_split\n\u001b[1;32m      5\u001b[0m \u001b[38;5;66;03m#Train Split \u001b[39;00m\n\u001b[0;32m----> 6\u001b[0m X_train, X_test, y_train, y_test \u001b[38;5;241m=\u001b[39m train_test_split(\u001b[43mX_scaled\u001b[49m, y_encoded, train_size\u001b[38;5;241m=\u001b[39m\u001b[38;5;241m0.7\u001b[39m)\n\u001b[1;32m      7\u001b[0m \u001b[38;5;28mprint\u001b[39m(X_train\u001b[38;5;241m.\u001b[39mshape) \u001b[38;5;66;03m# dataset split by train size\u001b[39;00m\n\u001b[1;32m      8\u001b[0m \u001b[38;5;28mprint\u001b[39m(X_test\u001b[38;5;241m.\u001b[39mshape) \u001b[38;5;66;03m# dataset not included in above dataset\u001b[39;00m\n",
      "\u001b[0;31mNameError\u001b[0m: name 'X_scaled' is not defined"
     ]
    }
   ],
   "source": [
    "#Train\n",
    "#Import package\n",
    "from sklearn.model_selection import train_test_split\n",
    "\n",
    "#Train Split \n",
    "X_train, X_test, y_train, y_test = train_test_split(X_scaled, y_encoded, train_size=0.7)\n",
    "print(X_train.shape) # dataset split by train size\n",
    "print(X_test.shape) # dataset not included in above dataset\n",
    "print(y_train.shape) # labels for corresponding X_train\n",
    "print(y_test.shape) # labels for corresponding X_test"
   ]
  },
  {
   "cell_type": "markdown",
   "id": "a75272d6",
   "metadata": {},
   "source": [
    "6) Write code to test the accuracy of all 4 classification models we covered in this class (ie. KNeighborsClassifier, DecisionTreeClassifier, and MLPClassifier, GaussianNB). Since the accuracy of the models will change depending on the train-test split, you will need to run each model 10 times and find the average accuracy between all runs.\n"
   ]
  },
  {
   "cell_type": "code",
   "execution_count": 7,
   "id": "00823a3b",
   "metadata": {},
   "outputs": [
    {
     "ename": "NameError",
     "evalue": "name 'X_scaled' is not defined",
     "output_type": "error",
     "traceback": [
      "\u001b[0;31m---------------------------------------------------------------------------\u001b[0m",
      "\u001b[0;31mNameError\u001b[0m                                 Traceback (most recent call last)",
      "Cell \u001b[0;32mIn[7], line 27\u001b[0m\n\u001b[1;32m     23\u001b[0m accuracies_nb \u001b[38;5;241m=\u001b[39m []\n\u001b[1;32m     25\u001b[0m \u001b[38;5;28;01mfor\u001b[39;00m _ \u001b[38;5;129;01min\u001b[39;00m \u001b[38;5;28mrange\u001b[39m(num_runs):\n\u001b[1;32m     26\u001b[0m     \u001b[38;5;66;03m# Train-test split\u001b[39;00m\n\u001b[0;32m---> 27\u001b[0m     X_train, X_test, y_train, y_test \u001b[38;5;241m=\u001b[39m train_test_split(\u001b[43mX_scaled\u001b[49m, y_encoded, train_size\u001b[38;5;241m=\u001b[39m\u001b[38;5;241m0.7\u001b[39m, random_state\u001b[38;5;241m=\u001b[39m_)\n\u001b[1;32m     29\u001b[0m     \u001b[38;5;66;03m# Test 1 - Decision Tree Classifier\u001b[39;00m\n\u001b[1;32m     30\u001b[0m     accuracy_dt \u001b[38;5;241m=\u001b[39m test_classifier(DecisionTreeClassifier(), X_train, X_test, y_train, y_test)\n",
      "\u001b[0;31mNameError\u001b[0m: name 'X_scaled' is not defined"
     ]
    }
   ],
   "source": [
    "# Packages\n",
    "from sklearn.preprocessing import StandardScaler, LabelEncoder\n",
    "from sklearn.model_selection import train_test_split\n",
    "from sklearn.metrics import accuracy_score\n",
    "from sklearn.neighbors import KNeighborsClassifier\n",
    "from sklearn.tree import DecisionTreeClassifier\n",
    "from sklearn.neural_network import MLPClassifier\n",
    "from sklearn.naive_bayes import GaussianNB\n",
    "import numpy as np\n",
    "\n",
    "# Function to test the accuracy of a classifier\n",
    "def test_classifier(classifier, X_train, X_test, y_train, y_test):\n",
    "    classifier.fit(X_train, y_train)\n",
    "    y_pred = classifier.predict(X_test)\n",
    "    accuracy = accuracy_score(y_test, y_pred)\n",
    "    return accuracy\n",
    "\n",
    "# Number of runs for averaging\n",
    "num_runs = 10\n",
    "accuracies_dt = []\n",
    "accuracies_mlp = []\n",
    "accuracies_knn = []\n",
    "accuracies_nb = []\n",
    "\n",
    "for _ in range(num_runs):\n",
    "    # Train-test split\n",
    "    X_train, X_test, y_train, y_test = train_test_split(X_scaled, y_encoded, train_size=0.7, random_state=_)\n",
    "\n",
    "    # Test 1 - Decision Tree Classifier\n",
    "    accuracy_dt = test_classifier(DecisionTreeClassifier(), X_train, X_test, y_train, y_test)\n",
    "    accuracies_dt.append(accuracy_dt)\n",
    "\n",
    "    # Test 2 - Multi-Layered Perceptron Classifier\n",
    "    accuracy_mlp = test_classifier(MLPClassifier(), X_train, X_test, y_train, y_test)\n",
    "    accuracies_mlp.append(accuracy_mlp)\n",
    "\n",
    "    # Test 3 - KNeighbors Classifier\n",
    "    accuracy_knn = test_classifier(KNeighborsClassifier(), X_train, X_test, y_train, y_test)\n",
    "    accuracies_knn.append(accuracy_knn)\n",
    "\n",
    "    # Test 4 - Gaussian Naive Bayes\n",
    "    accuracy_nb = test_classifier(GaussianNB(), X_train, X_test, y_train, y_test)\n",
    "    accuracies_nb.append(accuracy_nb)\n",
    "\n",
    "# Display the average accuracies\n",
    "print(f'Mean Accuracy - Decision Tree Classifier: {np.mean(accuracies_dt) * 100}%')\n",
    "print(f'Mean Accuracy - Multi-Layered Perceptron Classifier: {np.mean(accuracies_mlp) * 100}%')\n",
    "print(f'Mean Accuracy - KNeighbors Classifier: {np.mean(accuracies_knn) * 100}%')\n",
    "print(f'Mean Accuracy - Gaussian Naive Bayes: {np.mean(accuracies_nb) * 100}%')\n"
   ]
  },
  {
   "cell_type": "markdown",
   "id": "301f6cbe",
   "metadata": {},
   "source": [
    "7) Compare the 4 mean accuracies and identify which model is best."
   ]
  },
  {
   "cell_type": "markdown",
   "id": "c327353a",
   "metadata": {},
   "source": [
    "Comparison can be accomplished through looking at all aforementioned outputs and then sorting them."
   ]
  }
 ],
 "metadata": {
  "kernelspec": {
   "display_name": "Python 3 (ipykernel)",
   "language": "python",
   "name": "python3"
  },
  "language_info": {
   "codemirror_mode": {
    "name": "ipython",
    "version": 3
   },
   "file_extension": ".py",
   "mimetype": "text/x-python",
   "name": "python",
   "nbconvert_exporter": "python",
   "pygments_lexer": "ipython3",
   "version": "3.9.18"
  }
 },
 "nbformat": 4,
 "nbformat_minor": 5
}
